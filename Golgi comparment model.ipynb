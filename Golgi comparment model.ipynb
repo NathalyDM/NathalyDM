{
 "cells": [
  {
   "cell_type": "code",
   "execution_count": 10,
   "metadata": {},
   "outputs": [
    {
     "name": "stdout",
     "output_type": "stream",
     "text": [
      "Requirement already satisfied: kaleido in c:\\anaconda3\\lib\\site-packages (0.2.1)\n"
     ]
    }
   ],
   "source": [
    "!pip install kaleido"
   ]
  },
  {
   "cell_type": "code",
   "execution_count": 11,
   "metadata": {},
   "outputs": [],
   "source": [
    "import os\n",
    "import sys\n",
    "import matplotlib.pyplot as plt\n",
    "import numpy as np\n",
    "import pandas as pd\n",
    "from scipy.integrate import odeint\n",
    "import plotly.graph_objects as go\n",
    "import plotly.io as pio\n",
    "pio.renderers.default = \"notebook\"\n",
    "%matplotlib inline\n",
    "plt.style.use('ggplot')\n",
    "import kaleido"
   ]
  },
  {
   "cell_type": "code",
   "execution_count": 12,
   "metadata": {},
   "outputs": [],
   "source": [
    "# Jupyter Specifics\n",
    "from IPython.display import HTML\n",
    "from ipywidgets.widgets import interact, IntSlider, FloatSlider, Layout\n",
    "\n",
    "style = {'description_width': '100px'}\n",
    "slider_layout = Layout(width='99%')"
   ]
  },
  {
   "cell_type": "code",
   "execution_count": 26,
   "metadata": {},
   "outputs": [],
   "source": [
    "\n",
    "def ode_model(z, t, N, gamma, mu):\n",
    "    \"\"\"\n",
    "    Reference https://www.idmod.org/docs/hiv/model-seir.html\n",
    "    \"\"\"\n",
    "    G, MU, MS = z\n",
    "    dGdt = N - gamma*G - mu*G\n",
    "    dMUdt = gamma*G\n",
    "    dMSdt = mu*G\n",
    "    return [dGdt, dMUdt, dMSdt]\n",
    "\n",
    "\n",
    "def ode_solver(t, initial_conditions, params):\n",
    "    initG, initMU, initMS = initial_conditions\n",
    "    N,  gamma, mu = params\n",
    "    res = odeint(ode_model, [initG, initMU, initMS], t, args=(N, gamma, mu))\n",
    "    return res\n",
    "\n",
    "# ref: https://www.medrxiv.org/content/10.1101/2020.04.01.20049825v1.full.pdf\n",
    "initG = 32 \n",
    "initMU = 0\n",
    "initMS = 0\n",
    "\n",
    "sigma = 0.9\n",
    "gamma = 0.08\n",
    "mu = 0.008\n",
    "N = 2\n",
    "time = 180\n",
    "\n",
    "def main(initG, initMU, initMS, N, gamma, mu, time):\n",
    "    initial_conditions = [initG, initMU, initMS]\n",
    "    params = [N, gamma, mu]\n",
    "    tspan = np.arange(0, time, 1)\n",
    "    sol = ode_solver(tspan, initial_conditions, params)\n",
    "    G, MU, MS = sol[:, 0], sol[:, 1], sol[:, 2]\n",
    "    \n",
    "    # Create traces\n",
    "    fig = go.Figure()\n",
    "    fig.add_trace(go.Scatter(x=tspan, y=G, mode='lines+markers', name='Golgi'))\n",
    "    fig.add_trace(go.Scatter(x=tspan, y=MU, mode='lines+markers', name='Memb. Up'))\n",
    "    fig.add_trace(go.Scatter(x=tspan, y=MS, mode='lines+markers', name='Memb. Side'))\n",
    "\n",
    "    if days <= 30:\n",
    "        step = 1\n",
    "    elif days <= 90:\n",
    "        step = 7\n",
    "    else:\n",
    "        step = 30\n",
    "    \n",
    "    # Edit the layout\n",
    "    fig.update_layout(title='Simulation of Compartmental Model',\n",
    "                       xaxis_title='Time',\n",
    "                       yaxis_title='Counting unit',\n",
    "                       title_x=0.5,\n",
    "                      width=900, height=600\n",
    "                     )\n",
    "    fig.update_xaxes(tickangle=-90, tickformat = None, tickmode='array', tickvals=np.arange(0, days + 1, step))\n",
    "    fig.show()"
   ]
  },
  {
   "cell_type": "code",
   "execution_count": 27,
   "metadata": {},
   "outputs": [
    {
     "data": {
      "application/vnd.jupyter.widget-view+json": {
       "model_id": "0e92c12530974113993bdcf1bdd2066e",
       "version_major": 2,
       "version_minor": 0
      },
      "text/plain": [
       "interactive(children=(IntSlider(value=32, description='Conc. Golgi', layout=Layout(width='99%'), style=SliderS…"
      ]
     },
     "metadata": {},
     "output_type": "display_data"
    },
    {
     "data": {
      "text/plain": [
       "<function __main__.main(initG, initMU, initMS, N, gamma, mu, time)>"
      ]
     },
     "execution_count": 27,
     "metadata": {},
     "output_type": "execute_result"
    }
   ],
   "source": [
    "\n",
    "interact(main, \n",
    "         initG=IntSlider(min=0, max=100, step=1, value=initG, description='Conc. Golgi', style=style, layout=slider_layout),\n",
    "         initMU=IntSlider(min=0, max=100, step=1, value=initMU, description='Conc. Membrane Up', style=style, layout=slider_layout),\n",
    "         initMS=IntSlider(min=0, max=100, step=1, value=initMS, description='Conc. Membrane Side', style=style, layout=slider_layout),\n",
    "\n",
    "         N=FloatSlider(min=0, max=4, step=0.001, value=N, description='Transfer from Nuclei', style=style, layout=slider_layout),\n",
    "         gamma=FloatSlider(min=0, max=4, step=0.001, value=gamma, description='Ratio Golgi to Memb. Up', style=style, layout=slider_layout),\n",
    "         mu=FloatSlider(min=0, max=1, step=0.001, value=mu, description='Ratio Golgi to Memb. Side', style=style, layout=slider_layout),\n",
    "         time=IntSlider(min=1, max=600, step=1, value=days, description='Time (min)', style=style, layout=slider_layout),\n",
    "        )"
   ]
  },
  {
   "cell_type": "code",
   "execution_count": null,
   "metadata": {},
   "outputs": [],
   "source": []
  },
  {
   "cell_type": "code",
   "execution_count": null,
   "metadata": {},
   "outputs": [],
   "source": []
  }
 ],
 "metadata": {
  "kernelspec": {
   "display_name": "Python 3",
   "language": "python",
   "name": "python3"
  },
  "language_info": {
   "codemirror_mode": {
    "name": "ipython",
    "version": 3
   },
   "file_extension": ".py",
   "mimetype": "text/x-python",
   "name": "python",
   "nbconvert_exporter": "python",
   "pygments_lexer": "ipython3",
   "version": "3.8.5"
  }
 },
 "nbformat": 4,
 "nbformat_minor": 4
}
